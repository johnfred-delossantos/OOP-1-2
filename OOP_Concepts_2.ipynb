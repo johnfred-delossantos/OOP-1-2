{
  "nbformat": 4,
  "nbformat_minor": 0,
  "metadata": {
    "colab": {
      "name": "OOP Concepts 2.ipynb",
      "provenance": [],
      "authorship_tag": "ABX9TyOmDqv4Z2BZqtzrPp+cp2na",
      "include_colab_link": true
    },
    "kernelspec": {
      "name": "python3",
      "display_name": "Python 3"
    },
    "language_info": {
      "name": "python"
    }
  },
  "cells": [
    {
      "cell_type": "markdown",
      "metadata": {
        "id": "view-in-github",
        "colab_type": "text"
      },
      "source": [
        "<a href=\"https://colab.research.google.com/github/johnfred-delossantos/OOP-1-2/blob/main/OOP_Concepts_2.ipynb\" target=\"_parent\"><img src=\"https://colab.research.google.com/assets/colab-badge.svg\" alt=\"Open In Colab\"/></a>"
      ]
    },
    {
      "cell_type": "markdown",
      "source": [
        "Classes with Multiple Objects"
      ],
      "metadata": {
        "id": "iVr57-Y_VIHx"
      }
    },
    {
      "cell_type": "code",
      "execution_count": 1,
      "metadata": {
        "colab": {
          "base_uri": "https://localhost:8080/"
        },
        "id": "XOZZjNCaTKII",
        "outputId": "69ee777a-8a85-4e45-ff8f-953a757956dc"
      },
      "outputs": [
        {
          "output_type": "stream",
          "name": "stdout",
          "text": [
            "Griffon Vulture flies above clouds\n",
            "Common Crane flies above clouds\n",
            "Emu is the national bird of the Philippines\n"
          ]
        }
      ],
      "source": [
        "class Birds:\n",
        "  def __init__(self, bird_name):\n",
        "    self.bird_name = bird_name\n",
        "\n",
        "  def flying_birds(self):\n",
        "    print(f\"{self.bird_name} flies above clouds\")\n",
        "    \n",
        "  def non_flying_birds(self):\n",
        "    print(f\"{self.bird_name} is the national bird of the Philippines\")\n",
        "\n",
        "vulture = Birds(\"Griffon Vulture\")\n",
        "crane = Birds(\"Common Crane\")\n",
        "emu = Birds(\"Emu\")\n",
        "\n",
        "vulture.flying_birds()\n",
        "crane.flying_birds()\n",
        "emu.non_flying_birds()"
      ]
    },
    {
      "cell_type": "markdown",
      "source": [
        "Encapsulation using mangling with double underscores"
      ],
      "metadata": {
        "id": "2zO9HKJIXSAj"
      }
    },
    {
      "cell_type": "code",
      "source": [
        "class foo:\n",
        "  def __init__(self, a, b):\n",
        "    self.__a = a\n",
        "    self.__b = b\n",
        "\n",
        "  def add(self):\n",
        "    return self.__a + self.__b #Private attributes\n",
        "\n",
        "number = foo(3, 4)\n",
        "number.add()\n",
        "\n",
        "number.a = 7 #(7, 4)  7 + 4 = 11\n",
        "number.add()"
      ],
      "metadata": {
        "colab": {
          "base_uri": "https://localhost:8080/"
        },
        "id": "Gs-zdUtEXIQ1",
        "outputId": "aab08209-b335-486b-caf0-b7f00c4c1270"
      },
      "execution_count": 2,
      "outputs": [
        {
          "output_type": "execute_result",
          "data": {
            "text/plain": [
              "7"
            ]
          },
          "metadata": {},
          "execution_count": 2
        }
      ]
    },
    {
      "cell_type": "markdown",
      "source": [
        "Encapsulation with Private Attributes"
      ],
      "metadata": {
        "id": "Gu4vwuLSZZP6"
      }
    },
    {
      "cell_type": "code",
      "source": [
        "class Counter:\n",
        "  def __init__(self):\n",
        "    self.__current = 0\n",
        "\n",
        "  def increment(self):\n",
        "    self.__current += 1\n",
        "\n",
        "  def value(self):\n",
        "    return self.__current\n",
        "\n",
        "  def reset(self):\n",
        "    self.__current = 0\n",
        "\n",
        "num = Counter()\n",
        "\n",
        "num.increment() #counter = counter + 1\n",
        "num.increment()\n",
        "num.increment()\n",
        "\n",
        "num.counter = 1\n",
        "\n",
        "num.value()"
      ],
      "metadata": {
        "colab": {
          "base_uri": "https://localhost:8080/"
        },
        "id": "JbKUJqd7Y-av",
        "outputId": "34b6961b-621e-47b5-968e-6abc311f2f2d"
      },
      "execution_count": 3,
      "outputs": [
        {
          "output_type": "execute_result",
          "data": {
            "text/plain": [
              "3"
            ]
          },
          "metadata": {},
          "execution_count": 3
        }
      ]
    },
    {
      "cell_type": "markdown",
      "source": [
        "Inheritance"
      ],
      "metadata": {
        "id": "p-X229kddIUV"
      }
    },
    {
      "cell_type": "code",
      "source": [
        "class Person:\n",
        "  def __init__(self, firstname, surname):\n",
        "    self.firstname = firstname\n",
        "    self.surname = surname\n",
        "  \n",
        "  def printname(self):\n",
        "    print(self.firstname, self.surname)\n",
        "\n",
        "person = Person(\"Ana\", \"Santos\")\n",
        "person.printname()\n",
        "\n",
        "class Teacher(Person):\n",
        "  pass\n",
        "\n",
        "person2 = Teacher(\"Maria\", \"Sayo\")\n",
        "person2.printname()\n",
        "\n",
        "class Student(Person):\n",
        "  pass\n",
        "\n",
        "person3 = Student(\"Jhoriz\", \"Aquino\")\n",
        "person3.printname()"
      ],
      "metadata": {
        "colab": {
          "base_uri": "https://localhost:8080/"
        },
        "id": "rTTjY9PYdJS5",
        "outputId": "366fff93-de2f-4fe1-dff2-32eb1638cfc7"
      },
      "execution_count": 4,
      "outputs": [
        {
          "output_type": "stream",
          "name": "stdout",
          "text": [
            "Ana Santos\n",
            "Maria Sayo\n",
            "Jhoriz Aquino\n"
          ]
        }
      ]
    },
    {
      "cell_type": "markdown",
      "source": [
        "Polymorphism"
      ],
      "metadata": {
        "id": "sI58cxr1fJMs"
      }
    },
    {
      "cell_type": "code",
      "source": [
        "class RegularPolygon:\n",
        "  def __init__(self, side):\n",
        "    self.side = side\n",
        "\n",
        "class Square(RegularPolygon):\n",
        "  def area(self):\n",
        "    return self.side * self.side\n",
        "\n",
        "class EquilateralTriangle(RegularPolygon):\n",
        "  def area(self):\n",
        "    return self.side * self.side * 0.433\n",
        "\n",
        "object = Square(4)\n",
        "print(object.area())\n",
        "\n",
        "object2 = EquilateralTriangle(3)\n",
        "print(object2.area())"
      ],
      "metadata": {
        "colab": {
          "base_uri": "https://localhost:8080/"
        },
        "id": "sNF2RfSafKx8",
        "outputId": "89b99187-18bb-43c1-8c40-13ff798b2a64"
      },
      "execution_count": 5,
      "outputs": [
        {
          "output_type": "stream",
          "name": "stdout",
          "text": [
            "16\n",
            "3.897\n"
          ]
        }
      ]
    },
    {
      "cell_type": "markdown",
      "source": [
        "Application 1"
      ],
      "metadata": {
        "id": "xK94YqSkhinl"
      }
    },
    {
      "cell_type": "markdown",
      "source": [
        "1. Create a Python program that displays the name of three students (Student 1,\n",
        "Student 2, and Student 3) and their term grades\n",
        "2. Create a class name Person and attributes – std1, std2, std2, pre, mid, fin\n",
        "3. Compute the average of each term grade using Grade() method\n",
        "4. Information about student’s grades must be hidden from others\n",
        "5. Save your python program named as “OOP Concepts 2” to your GitHub\n",
        "repository “OOP 1-2”\n",
        "6. Share your GitHub link attached with this manuscript."
      ],
      "metadata": {
        "id": "5ZygVeH6hxm-"
      }
    },
    {
      "cell_type": "code",
      "source": [
        "class Person:\n",
        "  def __init__(self, pre, mid, fin):\n",
        "    self.__std1 = \"Juan Alfonso S. Mateo\"\n",
        "    self.__std2 = \"Opie L. Winston\"\n",
        "    self.__std3 = \"Floppy C. Ong\"\n",
        "    self.__pre = pre\n",
        "    self.__mid = mid\n",
        "    self.__fin = fin\n",
        "\n",
        "  def Grade(self):\n",
        "    return round(((self.__pre + self.__mid + self.__fin) / 3),2)\n",
        "\n",
        "  def Student1(self):\n",
        "    return (self.__std1)\n",
        "\n",
        "  def Student2(self):\n",
        "    return (self.__std2)\n",
        "\n",
        "  def Student3(self):\n",
        "    return (self.__std3)\n",
        "    \n",
        "code = [123, 456, 789]\n",
        "\n",
        "whois = int(input(\"Please enter your student code: \"))\n",
        "\n",
        "if whois in code:\n",
        "  whois = int(whois)\n",
        "\n",
        "  if whois == 123:\n",
        "\n",
        "    pre = (65 + 30)\n",
        "    mid = (68 + 28)\n",
        "    fin = (67 + 29)\n",
        "\n",
        "    grades = Person(pre, mid, fin)\n",
        "    grades.pre = 99 #This should change the value of preliminary grade\n",
        "    name = Person(None, None, None)\n",
        "    std1 = name.Student1()\n",
        "    print(f\"\\nStudent Code: {whois} | Subject: Object-Oriented Programming \\nName: {std1} \\nPreliminary Grade: {pre} | Midterms Grade: {mid} | Finals Grade: {fin} \\nSemestral Grade: {grades.Grade()}\")\n",
        "\n",
        "  elif whois == 456:\n",
        "\n",
        "    pre = (61 + 30)\n",
        "    mid = (60 + 29)\n",
        "    fin = (66 + 26)\n",
        "\n",
        "    grades = Person(pre, mid, fin)\n",
        "    grades.mid = 99 #This should change the value of midterms grade\n",
        "    name = Person(None, None, None)\n",
        "    std2 = name.Student2()\n",
        "    print(f\"\\nStudent Code: {whois} | Subject: Object-Oriented Programming \\nName: {std2} \\nPreliminary Grade: {pre} | Midterms Grade: {mid} | Finals Grade: {fin} \\nSemestral Grade: {grades.Grade()}\")\n",
        "\n",
        "  elif whois == 789:\n",
        "\n",
        "    pre = (65 + 30)\n",
        "    mid = (65 + 27)\n",
        "    fin = (66 + 23)\n",
        "\n",
        "    grades = Person(pre, mid, fin)\n",
        "    grades.fin = 99 #This should change the value of finals grade\n",
        "    name = Person(None, None, None)\n",
        "    std3 = name.Student3()\n",
        "    print(f\"\\nStudent Code: {whois} | Subject: Object-Oriented Programming \\nName: {std3} \\nPreliminary Grade: {pre} | Midterms Grade: {mid} | Finals Grade: {fin} \\nSemestral Grade: {grades.Grade()}\")\n",
        "\n",
        "else:\n",
        "  all = input(\"That is not a valid student code. \\nWould you like to see all grades instead (yes/no)? \")\n",
        "  if all.lower() != \"yes\":\n",
        "    pass\n",
        "  else:\n",
        "    print(f\"\\nBS CpE 1-2 Object-Oriented Programming 1st Semester Performance\\n\\nName | Semestral Grade\\nStudent 1 | 95.67\\nStudent 2 | 90.67\\nStudent 3 | 92.00\")"
      ],
      "metadata": {
        "colab": {
          "base_uri": "https://localhost:8080/"
        },
        "id": "C8vakHyWX9j8",
        "outputId": "445d5a10-34af-4cb3-db50-41d6397947da"
      },
      "execution_count": 7,
      "outputs": [
        {
          "output_type": "stream",
          "name": "stdout",
          "text": [
            "Please enter your student code: 5435\n",
            "That is not a valid student code. \n",
            "Would you like to see all grades instead (yes/no)? yes\n",
            "\n",
            "BS CpE 1-2 Object-Oriented Programming 1st Semester Performance\n",
            "\n",
            "Name | Semestral Grade\n",
            "Student 1 | 95.67\n",
            "Student 2 | 90.67\n",
            "Student 3 | 92.00\n"
          ]
        }
      ]
    }
  ]
}