{
  "nbformat": 4,
  "nbformat_minor": 0,
  "metadata": {
    "colab": {
      "name": "GUI Application.ipynb",
      "provenance": [],
      "authorship_tag": "ABX9TyOGS7HhJ1hYWxwc0715izWf",
      "include_colab_link": true
    },
    "kernelspec": {
      "name": "python3",
      "display_name": "Python 3"
    },
    "language_info": {
      "name": "python"
    }
  },
  "cells": [
    {
      "cell_type": "markdown",
      "metadata": {
        "id": "view-in-github",
        "colab_type": "text"
      },
      "source": [
        "<a href=\"https://colab.research.google.com/github/johnfred-delossantos/OOP-1-2/blob/main/GUI_Application.ipynb\" target=\"_parent\"><img src=\"https://colab.research.google.com/assets/colab-badge.svg\" alt=\"Open In Colab\"/></a>"
      ]
    },
    {
      "cell_type": "code",
      "execution_count": 2,
      "metadata": {
        "colab": {
          "base_uri": "https://localhost:8080/"
        },
        "id": "vLdR1yIjhiZ8",
        "outputId": "7b187eba-012b-4d21-9377-b992d4709ab3"
      },
      "outputs": [
        {
          "output_type": "stream",
          "name": "stdout",
          "text": [
            "The prelim grade of student 1 is 90\n",
            "The midterm grade of student 1 is 95\n",
            "The final grade of student 1 is 100\n",
            "The semestral grade of student is95.0\n",
            "His gender is Male\n"
          ]
        }
      ],
      "source": [
        "#@title Students Grade in OOP\n",
        "\n",
        "Student_Name1 = \"Enter the student name\" #@param {type: \"string\"}\n",
        "prelim = 90 #@param {type: \"number\"}\n",
        "midterm = 95 #@param {type: \"number\"}\n",
        "final = 100 #@param {type: \"number\"}\n",
        "\n",
        "semestral_grade = (prelim + midterm + final) / 3\n",
        "\n",
        "print(\"The prelim grade of student 1 is\" + \" \" +str(prelim))\n",
        "print(\"The midterm grade of student 1 is\" + \" \" +str(midterm))\n",
        "print(\"The final grade of student 1 is\" + \" \" +str(final))\n",
        "print(\"The semestral grade of student is\" + str(semestral_grade))\n",
        "\n",
        "#@title = Gender\n",
        "Gender = \"Male\" #@param [\"Male\", \"Female\"]\n",
        "print(\"His gender is \" + Gender)\n",
        "\n",
        "Birthdate = \"2012-04-07\" #@param {type: \"date\"}"
      ]
    }
  ]
}