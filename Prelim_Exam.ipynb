{
  "nbformat": 4,
  "nbformat_minor": 0,
  "metadata": {
    "colab": {
      "name": "Prelim Exam.ipynb",
      "provenance": [],
      "authorship_tag": "ABX9TyOlNP3/IXzofES5n8GveaOR",
      "include_colab_link": true
    },
    "kernelspec": {
      "name": "python3",
      "display_name": "Python 3"
    },
    "language_info": {
      "name": "python"
    }
  },
  "cells": [
    {
      "cell_type": "markdown",
      "metadata": {
        "id": "view-in-github",
        "colab_type": "text"
      },
      "source": [
        "<a href=\"https://colab.research.google.com/github/johnfred-delossantos/OOP-1-2/blob/main/Prelim_Exam.ipynb\" target=\"_parent\"><img src=\"https://colab.research.google.com/assets/colab-badge.svg\" alt=\"Open In Colab\"/></a>"
      ]
    },
    {
      "cell_type": "markdown",
      "source": [
        "Prelim Exam Problem 2\n",
        "\n",
        "1. Write a Python to display your full name, student number, age, and course.\n",
        "2. Create a class named Student with attributes: Name, Student_No, Age, School, and Course.\n",
        "3. Create an object name Myself and assign an instance for each attribute.\n",
        "4. Create a method Info() using an instantation of a class.\n",
        "5. Insert your Github link \"Prelim Exam\" from your repository named \"OOP 1-2\"."
      ],
      "metadata": {
        "id": "V-6SSFfsZj6m"
      }
    },
    {
      "cell_type": "code",
      "source": [
        "class Student:\n",
        "  def __init__(self, Name, Student_No, Age, School, Course):\n",
        "    self.Name = Name\n",
        "    self.Student_No = Student_No\n",
        "    self.Age = Age\n",
        "    self.School = School\n",
        "    self.Course = Course\n",
        "\n",
        "  def Info(self):\n",
        "    print(self.Name, self.Student_No, self.Age, self.School, self.Course)\n",
        "\n",
        "Myself = Student(\"John Fred B. Delos Santos\", 202101897, 19, \"Cavite State University - Don Severino Delas Alas Campus\", \"Bachelor of Science in Computer Engineering\")\n",
        "\n",
        "print(f\"Name: {Myself.Name} \\nStudent Number: {Myself.Student_No} \\nAge: {Myself.Age} \\nSchool: {Myself.School} \\nCourse: {Myself.Course}\")\n",
        "print(f\"\\nHello! My name is {Myself.Name}, {Myself.Age} years old, and currently Studying in {Myself.School}. \\nI am pursuing {Myself.Course} and my student number is {Myself.Student_No}.\")"
      ],
      "metadata": {
        "colab": {
          "base_uri": "https://localhost:8080/"
        },
        "id": "QmL3HFKia1Ho",
        "outputId": "ba974fd9-5f1f-4693-87e3-fb67fe9cc26c"
      },
      "execution_count": 1,
      "outputs": [
        {
          "output_type": "stream",
          "name": "stdout",
          "text": [
            "Name: John Fred B. Delos Santos \n",
            "Student Number: 202101897 \n",
            "Age: 19 \n",
            "School: Cavite State University - Don Severino Delas Alas Campus \n",
            "Course: Bachelor of Science in Computer Engineering\n",
            "\n",
            "Hello! My name is John Fred B. Delos Santos, 19 years old, and currently Studying in Cavite State University - Don Severino Delas Alas Campus. \n",
            "I am pursuing Bachelor of Science in Computer Engineering and my student number is 202101897.\n"
          ]
        }
      ]
    }
  ]
}