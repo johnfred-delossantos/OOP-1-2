{
  "nbformat": 4,
  "nbformat_minor": 0,
  "metadata": {
    "colab": {
      "name": "Activity 2.ipynb",
      "provenance": [],
      "authorship_tag": "ABX9TyOlXbtBnh/SAr9w1pHCceoa",
      "include_colab_link": true
    },
    "kernelspec": {
      "name": "python3",
      "display_name": "Python 3"
    },
    "language_info": {
      "name": "python"
    }
  },
  "cells": [
    {
      "cell_type": "markdown",
      "metadata": {
        "id": "view-in-github",
        "colab_type": "text"
      },
      "source": [
        "<a href=\"https://colab.research.google.com/github/johnfred-delossantos/OOP-1-2/blob/main/Activity_2.ipynb\" target=\"_parent\"><img src=\"https://colab.research.google.com/assets/colab-badge.svg\" alt=\"Open In Colab\"/></a>"
      ]
    },
    {
      "cell_type": "code",
      "execution_count": 1,
      "metadata": {
        "colab": {
          "base_uri": "https://localhost:8080/"
        },
        "id": "OMTFXPyxW4vZ",
        "outputId": "d5566277-7a4e-4fb7-fb16-b885303ab024"
      },
      "outputs": [
        {
          "output_type": "stream",
          "name": "stdout",
          "text": [
            "The temperature is 45 degrees celsius.\n",
            "45 degrees Celius is equivalent to 113.0 degrees Fahrenheit.\n"
          ]
        }
      ],
      "source": [
        "#Write a python program that computes the temperature Celsius to Fahrenheit. Create a class name Temperature.\n",
        "#Create Celsius as attribute name, Temp() as method, and temp1 as object name. F = (1.8 * C) + 32\n",
        "\n",
        "class Temperature:\n",
        "  def __init__(self, Celsius):\n",
        "    self.Celsius = Celsius\n",
        "\n",
        "  def Temp(self):\n",
        "    return float((1.8 * self.Celsius) + 32)\n",
        "\n",
        "  def display(self):\n",
        "    print(f\"{self.Celsius} degrees Celius is equivalent to {self.Temp()} degrees Fahrenheit.\")\n",
        "\n",
        "temp1 = Temperature(45)\n",
        "\n",
        "print(f\"The temperature is {temp1.Celsius} degrees celsius.\")\n",
        "temp1.display()"
      ]
    },
    {
      "cell_type": "markdown",
      "source": [
        "##PRE-DEFINED VALUE"
      ],
      "metadata": {
        "id": "9n6RLOyLCnap"
      }
    },
    {
      "cell_type": "code",
      "source": [
        "#1.\tDefine an Area() method of the class that calculates the circle’s area.\n",
        "#2. Define a Perimeter() method of the class which allows you to calculate the perimeter of the circle.\n",
        "#3.\tSave your python program named as “Activity 2” to your GitHub repository “OOP 1-2”\n",
        "#4. Share your GitHub link attached with this manuscript.\n",
        "import math\n",
        "\n",
        "class Circle:\n",
        "\n",
        "  def __init__(self, radius):\n",
        "    self.radius = radius\n",
        "\n",
        "  def Area(self):  \n",
        "    return float(round(math.pi * (self.radius**2),2))\n",
        "\n",
        "  def Perimeter(self):\n",
        "    diameter = float(2 * self.radius)\n",
        "    return float(round((math.pi * diameter),2))\n",
        "\n",
        "  def display_area(self):\n",
        "    print(f\"The area of a circle whose radius is {self.radius} is {self.Area()}.\")\n",
        "\n",
        "  def display_perimeter(self):\n",
        "    print(f\"The perimeter of a circle whose radius is {self.radius} is {self.Perimeter()}.\")\n",
        "\n",
        "circle = Circle(15)\n",
        "\n",
        "circle.display_area()\n",
        "circle.display_perimeter()"
      ],
      "metadata": {
        "colab": {
          "base_uri": "https://localhost:8080/"
        },
        "id": "y1mujCm9c5li",
        "outputId": "c0517bbb-015e-4bfa-e666-8539e5a58fcb"
      },
      "execution_count": 2,
      "outputs": [
        {
          "output_type": "stream",
          "name": "stdout",
          "text": [
            "The area of a circle whose radius is 15 is 706.86.\n",
            "The perimeter of a circle whose radius is 15 is 94.25.\n"
          ]
        }
      ]
    },
    {
      "cell_type": "markdown",
      "source": [
        "##USER-DEFINED VALUE"
      ],
      "metadata": {
        "id": "6WXu7I0KCXJm"
      }
    },
    {
      "cell_type": "code",
      "source": [
        "#1.\tDefine an Area() method of the class that calculates the circle’s area.\n",
        "#2. Define a Perimeter() method of the class which allows you to calculate the perimeter of the circle.\n",
        "#3.\tSave your python program named as “Activity 2” to your GitHub repository “OOP 1-2”\n",
        "#4. Share your GitHub link attached with this manuscript.\n",
        "import math\n",
        "\n",
        "class Circle:\n",
        "\n",
        "  def __init__(self, radius):\n",
        "    self.radius = radius\n",
        "\n",
        "  def Area(self):  \n",
        "    return float(round(math.pi * (self.radius**2),2))\n",
        "\n",
        "  def Perimeter(self):\n",
        "    diameter = float(2 * self.radius)\n",
        "    return float(round((math.pi * diameter),2))\n",
        "\n",
        "radius_input = float(input(\"What is the radius? \"))\n",
        "area = Circle(radius_input)\n",
        "perimeter = Circle(radius_input)\n",
        "\n",
        "print(f'The perimeter of the circle is {perimeter.Perimeter()} and its area is {area.Area()}.')"
      ],
      "metadata": {
        "colab": {
          "base_uri": "https://localhost:8080/"
        },
        "id": "6j1iaSVL94jy",
        "outputId": "6f0102c8-3b78-469e-cf37-7048234faa4a"
      },
      "execution_count": 3,
      "outputs": [
        {
          "output_type": "stream",
          "name": "stdout",
          "text": [
            "What is the radius? 15\n",
            "The perimeter of the circle is 94.25 and its area is 706.86.\n"
          ]
        }
      ]
    }
  ]
}